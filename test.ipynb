{
 "cells": [
  {
   "cell_type": "code",
   "execution_count": 1,
   "metadata": {},
   "outputs": [],
   "source": [
    "import requests\n"
   ]
  },
  {
   "cell_type": "markdown",
   "metadata": {},
   "source": [
    "## Test register"
   ]
  },
  {
   "cell_type": "code",
   "execution_count": 98,
   "metadata": {},
   "outputs": [
    {
     "name": "stdout",
     "output_type": "stream",
     "text": [
      "201\n",
      "<Response [201]>\n"
     ]
    }
   ],
   "source": [
    "api_url = \"http://localhost:5000/api/register\"\n",
    "\n",
    "data = {'userID': 'aaa', 'userPassword': 'bbb', 'dep': 'Fab a'}\n",
    "response = requests.post(api_url, json=data)\n",
    "\n",
    "print(response.status_code)\n",
    "print(response)"
   ]
  },
  {
   "cell_type": "markdown",
   "metadata": {},
   "source": [
    "## Test logout"
   ]
  },
  {
   "cell_type": "code",
   "execution_count": 11,
   "metadata": {},
   "outputs": [
    {
     "name": "stdout",
     "output_type": "stream",
     "text": [
      "200\n",
      "<Response [200]>\n"
     ]
    }
   ],
   "source": [
    "api_url = \"http://localhost:5000/api/logout\"\n",
    "\n",
    "response = requests.get(api_url)\n",
    "\n",
    "print(response.status_code)\n",
    "print(response)"
   ]
  },
  {
   "cell_type": "markdown",
   "metadata": {},
   "source": [
    "## Test login"
   ]
  },
  {
   "cell_type": "code",
   "execution_count": 33,
   "metadata": {},
   "outputs": [
    {
     "name": "stdout",
     "output_type": "stream",
     "text": [
      "200\n",
      "<Response [200]>\n",
      "None\n"
     ]
    }
   ],
   "source": [
    "api_url = \"http://localhost:5000/api/login\"\n",
    "\n",
    "data = {'userID': 'aaa', 'userPassword': 'bbb'}\n",
    "response = requests.post(api_url, data=data)\n",
    "session_cookie = response.cookies.get('session_cookie_name')\n",
    "\n",
    "print(response.status_code)\n",
    "print(response)\n",
    "print(session_cookie)"
   ]
  },
  {
   "cell_type": "markdown",
   "metadata": {},
   "source": [
    "# unittest"
   ]
  },
  {
   "cell_type": "markdown",
   "metadata": {},
   "source": [
    "## Test add order"
   ]
  },
  {
   "cell_type": "code",
   "execution_count": 3,
   "metadata": {},
   "outputs": [],
   "source": [
    "# import unittest\n",
    "# import requests\n",
    "\n",
    "# class TestUserFunctionality(unittest.TestCase):\n",
    "#     base_url = \"http://localhost:5001/api/\"\n",
    "#     session = None\n",
    "\n",
    "#     @classmethod\n",
    "#     def setUpClass(cls):\n",
    "#         print('---------- test login ----------')\n",
    "#         login_data = {\n",
    "#             'userID': 'user_fabA',\n",
    "#             'userPassword': 'password'\n",
    "#         }\n",
    "#         response = requests.post(cls.base_url + 'login', json=login_data)\n",
    "#         if response.status_code == 200:\n",
    "#             cls.session = requests.Session()\n",
    "#             cls.session.cookies.update(response.cookies)\n",
    "#             print('login success')\n",
    "#         else:\n",
    "#             raise Exception(\"Unable to login\")\n",
    "\n",
    "#     @classmethod\n",
    "#     def tearDownClass(cls):\n",
    "#         # 退出登录，关闭会话\n",
    "#         response = cls.session.get(cls.base_url + 'logout')\n",
    "#         if response.status_code != 200:\n",
    "#             print(\"Logout unsuccessful\")\n",
    "\n",
    "#     def test_add_order(self):\n",
    "#         print('---------- test add order ----------')\n",
    "#         data = {'priority': 'emergency', 'factory': 'Fab a', 'lab': 'surface', 'approvedBy': 'aaa'}\n",
    "\n",
    "#         files = [('file', open('test1.txt', 'rb')), ('file', open('1.jpg', 'rb'))]\n",
    "        \n",
    "#         response = self.session.post(self.base_url + 'orders', data=data, files=files)\n",
    "#         print(response.status_code)\n",
    "#         self.assertEqual(response.status_code, 201)\n",
    "\n",
    "#     def test_get_order(self):\n",
    "#         print('---------- test get order ----------')\n",
    "        \n",
    "#         response = self.session.get(self.base_url + 'orders')\n",
    "#         print(response.status_code)\n",
    "#         print(response.json())\n",
    "#         self.assertEqual(response.status_code, 200)\n",
    "\n",
    "#     def test_get_order_id(self):\n",
    "#         print('---------- test get order id ----------')\n",
    "        \n",
    "#         response = self.session.get(self.base_url + 'orders/6')\n",
    "#         print(response.status_code)\n",
    "#         print(response.json())\n",
    "#         self.assertEqual(response.status_code, 200)\n",
    "\n"
   ]
  },
  {
   "cell_type": "code",
   "execution_count": 15,
   "metadata": {},
   "outputs": [],
   "source": [
    "# jwt\n",
    "import unittest\n",
    "import requests\n",
    "\n",
    "class TestUserFunctionality(unittest.TestCase):\n",
    "    base_url = \"http://localhost:5001/api/\"\n",
    "    jwt_token = None\n",
    "\n",
    "    @classmethod\n",
    "    def setUpClass(cls):\n",
    "        print('---------- test login ----------')\n",
    "        login_data = {\n",
    "            'userID': 'user_fabA',\n",
    "            'userPassword': 'password'\n",
    "        }\n",
    "        response = requests.post(cls.base_url + 'login', json=login_data)\n",
    "        if response.status_code == 200:\n",
    "            cls.jwt_token = response.json().get('access_token')\n",
    "            if not cls.jwt_token:\n",
    "                raise Exception(\"JWT token not found in the login response\")\n",
    "            print('login success')\n",
    "        else:\n",
    "            raise Exception(\"Unable to login\")\n",
    "\n",
    "    def get_headers(self):\n",
    "        return {\n",
    "            'Authorization': f'Bearer {self.jwt_token}'\n",
    "        }\n",
    "\n",
    "    def test_add_order(self):\n",
    "        print('---------- test add order ----------')\n",
    "        data = {'priority': 'emergency', 'factory': 'Fab a', 'lab': 'surface', 'description': 'oooo'}\n",
    "        files = [('file', open('test1.txt', 'rb')), ('file', open('1.jpg', 'rb'))]\n",
    "\n",
    "        response = requests.post(self.base_url + 'orders', headers=self.get_headers(), data=data, files=files)\n",
    "        print(response.status_code)\n",
    "        self.assertEqual(response.status_code, 201)\n",
    "\n",
    "    # def test_get_order(self):\n",
    "    #     print('---------- test get order ----------')\n",
    "\n",
    "    #     response = requests.get(self.base_url + 'orders', headers=self.get_headers())\n",
    "    #     print(response.status_code)\n",
    "    #     print(response.json())\n",
    "    #     self.assertEqual(response.status_code, 200)\n",
    "\n",
    "    # def test_get_order_id(self):\n",
    "    #     print('---------- test get order id ----------')\n",
    "\n",
    "    #     response = requests.get(self.base_url + 'orders/6', headers=self.get_headers())\n",
    "    #     print(response.status_code)\n",
    "    #     print(response.json())\n",
    "    #     self.assertEqual(response.status_code, 200)"
   ]
  },
  {
   "cell_type": "code",
   "execution_count": 17,
   "metadata": {},
   "outputs": [
    {
     "name": "stderr",
     "output_type": "stream",
     "text": [
      "d:\\anaconda3\\Lib\\unittest\\case.py:579: ResourceWarning: unclosed file <_io.BufferedReader name='1.jpg'>\n",
      "  if method() is not None:\n",
      "ResourceWarning: Enable tracemalloc to get the object allocation traceback\n",
      "d:\\anaconda3\\Lib\\unittest\\case.py:579: ResourceWarning: unclosed file <_io.BufferedReader name='test1.txt'>\n",
      "  if method() is not None:\n",
      "ResourceWarning: Enable tracemalloc to get the object allocation traceback\n",
      ".\n",
      "----------------------------------------------------------------------\n",
      "Ran 1 test in 0.032s\n",
      "\n",
      "OK\n"
     ]
    },
    {
     "name": "stdout",
     "output_type": "stream",
     "text": [
      "---------- test login ----------\n",
      "login success\n",
      "---------- test add order ----------\n",
      "201\n"
     ]
    },
    {
     "data": {
      "text/plain": [
       "<unittest.main.TestProgram at 0x20e0b246710>"
      ]
     },
     "execution_count": 17,
     "metadata": {},
     "output_type": "execute_result"
    }
   ],
   "source": [
    "unittest.main(argv=[''], exit=False)"
   ]
  },
  {
   "cell_type": "markdown",
   "metadata": {},
   "source": [
    "## Test modify priority"
   ]
  },
  {
   "cell_type": "code",
   "execution_count": 77,
   "metadata": {},
   "outputs": [],
   "source": [
    "class TestUserFunctionality(unittest.TestCase):\n",
    "    base_url = \"http://localhost:5000/api/\"\n",
    "    session = None\n",
    "\n",
    "    @classmethod\n",
    "    def setUpClass(cls):\n",
    "        print('---------- test login ----------')\n",
    "        login_data = {\n",
    "            'userID': 'aaa',\n",
    "            'userPassword': 'bbb'\n",
    "        }\n",
    "        response = requests.post(cls.base_url + 'login', data=login_data)\n",
    "        if response.status_code == 200:\n",
    "            cls.session = requests.Session()\n",
    "            cls.session.cookies.update(response.cookies)\n",
    "            print('login success')\n",
    "        else:\n",
    "            raise Exception(\"Unable to login\")\n",
    "\n",
    "    @classmethod\n",
    "    def tearDownClass(cls):\n",
    "        # 退出登录，关闭会话\n",
    "        response = cls.session.get(cls.base_url + 'logout')\n",
    "        if response.status_code != 200:\n",
    "            print(\"Logout unsuccessful\")\n",
    "\n",
    "    def test_modify_order(self):\n",
    "        print('---------- test modify order ----------')\n",
    "        data = {'priority': 'emergency'}\n",
    "        \n",
    "        response = self.session.put(self.base_url + 'orders/1', json=data)\n",
    "        print(response.status_code)\n",
    "        self.assertEqual(response.status_code, 200)\n",
    "\n",
    "\n",
    "    def test_get_order_id(self):\n",
    "        print('---------- test get order id ----------')\n",
    "        \n",
    "        response = self.session.get(self.base_url + 'orders/1')\n",
    "        print(response.status_code)\n",
    "        print(response.json())\n",
    "        self.assertEqual(response.status_code, 200)"
   ]
  },
  {
   "cell_type": "code",
   "execution_count": 78,
   "metadata": {},
   "outputs": [
    {
     "name": "stderr",
     "output_type": "stream",
     "text": [
      "."
     ]
    },
    {
     "name": "stderr",
     "output_type": "stream",
     "text": [
      ".\n",
      "----------------------------------------------------------------------\n",
      "Ran 2 tests in 0.070s\n",
      "\n",
      "OK\n"
     ]
    },
    {
     "name": "stdout",
     "output_type": "stream",
     "text": [
      "---------- test login ----------\n",
      "login success\n",
      "---------- test get order id ----------\n",
      "200\n",
      "{'approvedAt': None, 'approvedBy': None, 'completedAt': None, 'completedBy': None, 'createdAt': 'Sat, 04 May 2024 20:45:05 GMT', 'createdBy': 'aaa', 'factory': 'Fab A', 'filePath': None, 'lab': 'chemical', 'priority': 'regular', 'serialNo': 1, 'status': 'Issued'}\n",
      "---------- test modify order ----------\n",
      "200\n"
     ]
    },
    {
     "data": {
      "text/plain": [
       "<unittest.main.TestProgram at 0x1df8b9075d0>"
      ]
     },
     "execution_count": 78,
     "metadata": {},
     "output_type": "execute_result"
    }
   ],
   "source": [
    "unittest.main(argv=[''], exit=False)"
   ]
  },
  {
   "cell_type": "markdown",
   "metadata": {},
   "source": [
    "## Test delete order"
   ]
  },
  {
   "cell_type": "code",
   "execution_count": 97,
   "metadata": {},
   "outputs": [],
   "source": [
    "import unittest\n",
    "import requests\n",
    "\n",
    "class TestUserFunctionality(unittest.TestCase):\n",
    "    base_url = \"http://localhost:5000/api/\"\n",
    "    session = None\n",
    "\n",
    "    @classmethod\n",
    "    def setUpClass(cls):\n",
    "        print('---------- test login ----------')\n",
    "        login_data = {\n",
    "            'userID': '111',\n",
    "            'userPassword': '222'\n",
    "        }\n",
    "        response = requests.post(cls.base_url + 'login', data=login_data)\n",
    "        if response.status_code == 200:\n",
    "            cls.session = requests.Session()\n",
    "            cls.session.cookies.update(response.cookies)\n",
    "            print('login success')\n",
    "        else:\n",
    "            raise Exception(\"Unable to login\")\n",
    "\n",
    "    @classmethod\n",
    "    def tearDownClass(cls):\n",
    "        # 退出登录，关闭会话\n",
    "        response = cls.session.get(cls.base_url + 'logout')\n",
    "        if response.status_code != 200:\n",
    "            print(\"Logout unsuccessful\")\n",
    "\n",
    "    def test_delete_order(self):\n",
    "        print('---------- test delete order ----------')\n",
    "        \n",
    "        response = self.session.delete(self.base_url + 'orders/1')\n",
    "        print(response.status_code)\n",
    "        self.assertEqual(response.status_code, 200)\n",
    "\n",
    "    def test_get_order(self):\n",
    "        print('---------- test get order ----------')\n",
    "        \n",
    "        response = self.session.get(self.base_url + 'orders')\n",
    "        print(response.status_code)\n",
    "        print(response.json())\n",
    "        self.assertEqual(response.status_code, 200)\n",
    "\n",
    "\n"
   ]
  },
  {
   "cell_type": "code",
   "execution_count": 96,
   "metadata": {},
   "outputs": [
    {
     "name": "stderr",
     "output_type": "stream",
     "text": [
      "F.\n",
      "======================================================================\n",
      "FAIL: test_delete_order (__main__.TestUserFunctionality.test_delete_order)\n",
      "----------------------------------------------------------------------\n",
      "Traceback (most recent call last):\n",
      "  File \"C:\\Users\\melod\\AppData\\Local\\Temp\\ipykernel_20768\\3796581426.py\", line 35, in test_delete_order\n",
      "    self.assertEqual(response.status_code, 201)\n",
      "AssertionError: 200 != 201\n",
      "\n",
      "----------------------------------------------------------------------\n",
      "Ran 2 tests in 0.108s\n",
      "\n",
      "FAILED (failures=1)\n"
     ]
    },
    {
     "name": "stdout",
     "output_type": "stream",
     "text": [
      "---------- test login ----------\n",
      "login success\n",
      "---------- test delete order ----------\n",
      "200\n",
      "---------- test get order ----------\n",
      "200\n",
      "[{'approvedAt': None, 'approvedBy': '111', 'completedAt': None, 'completedBy': None, 'createdAt': 'Sun, 05 May 2024 17:39:23 GMT', 'createdBy': '111', 'factory': 'Fab A', 'filePath': None, 'lab': 'chemical', 'priority': 'urgent', 'serialNo': 2, 'serialString': 'CHE-240505-002', 'status': 'Issued'}]\n"
     ]
    },
    {
     "data": {
      "text/plain": [
       "<unittest.main.TestProgram at 0x1df8a735410>"
      ]
     },
     "execution_count": 96,
     "metadata": {},
     "output_type": "execute_result"
    }
   ],
   "source": [
    "unittest.main(argv=[''], exit=False)"
   ]
  },
  {
   "cell_type": "markdown",
   "metadata": {},
   "source": [
    "## Test approve order "
   ]
  },
  {
   "cell_type": "code",
   "execution_count": 81,
   "metadata": {},
   "outputs": [],
   "source": [
    "class TestUserFunctionality(unittest.TestCase):\n",
    "    base_url = \"http://localhost:5000/api/\"\n",
    "    session = None\n",
    "\n",
    "    @classmethod\n",
    "    def setUpClass(cls):\n",
    "        print('---------- test login ----------')\n",
    "        login_data = {\n",
    "            'userID': '111',\n",
    "            'userPassword': '222'\n",
    "        }\n",
    "        response = requests.post(cls.base_url + 'login', data=login_data)\n",
    "        if response.status_code == 200:\n",
    "            cls.session = requests.Session()\n",
    "            cls.session.cookies.update(response.cookies)\n",
    "            print('login success')\n",
    "        else:\n",
    "            raise Exception(\"Unable to login\")\n",
    "\n",
    "    @classmethod\n",
    "    def tearDownClass(cls):\n",
    "        # 退出登录，关闭会话\n",
    "        response = cls.session.get(cls.base_url + 'logout')\n",
    "        if response.status_code != 200:\n",
    "            print(\"Logout unsuccessful\")\n",
    "\n",
    "    def test_get_order_id(self):\n",
    "        print('---------- test get order id ----------')\n",
    "        \n",
    "        response = self.session.get(self.base_url + 'orders/1')\n",
    "        print(response.status_code)\n",
    "        print(response.json())\n",
    "        self.assertEqual(response.status_code, 200)\n",
    "\n",
    "\n",
    "    def test_approve_order(self):\n",
    "        print('---------- test approve order ----------')\n",
    "        data = {'action': 'Approve'}\n",
    "        \n",
    "        response = self.session.post(self.base_url + 'approve_order/2', json=data)\n",
    "        print(response.status_code)\n",
    "        # print(response.json())\n",
    "        self.assertEqual(response.status_code, 200)\n"
   ]
  },
  {
   "cell_type": "code",
   "execution_count": 82,
   "metadata": {},
   "outputs": [
    {
     "name": "stdout",
     "output_type": "stream",
     "text": [
      "---------- test login ----------\n"
     ]
    },
    {
     "name": "stderr",
     "output_type": "stream",
     "text": [
      "E\n",
      "======================================================================\n",
      "ERROR: setUpClass (__main__.TestUserFunctionality)\n",
      "----------------------------------------------------------------------\n",
      "Traceback (most recent call last):\n",
      "  File \"d:\\anaconda3\\Lib\\site-packages\\urllib3\\connection.py\", line 203, in _new_conn\n",
      "    sock = connection.create_connection(\n",
      "           ^^^^^^^^^^^^^^^^^^^^^^^^^^^^^\n",
      "  File \"d:\\anaconda3\\Lib\\site-packages\\urllib3\\util\\connection.py\", line 85, in create_connection\n",
      "    raise err\n",
      "  File \"d:\\anaconda3\\Lib\\site-packages\\urllib3\\util\\connection.py\", line 73, in create_connection\n",
      "    sock.connect(sa)\n",
      "ConnectionRefusedError: [WinError 10061] 無法連線，因為目標電腦拒絕連線。\n",
      "\n",
      "The above exception was the direct cause of the following exception:\n",
      "\n",
      "Traceback (most recent call last):\n",
      "  File \"d:\\anaconda3\\Lib\\site-packages\\urllib3\\connectionpool.py\", line 791, in urlopen\n",
      "    response = self._make_request(\n",
      "               ^^^^^^^^^^^^^^^^^^^\n",
      "  File \"d:\\anaconda3\\Lib\\site-packages\\urllib3\\connectionpool.py\", line 497, in _make_request\n",
      "    conn.request(\n",
      "  File \"d:\\anaconda3\\Lib\\site-packages\\urllib3\\connection.py\", line 395, in request\n",
      "    self.endheaders()\n",
      "  File \"d:\\anaconda3\\Lib\\http\\client.py\", line 1289, in endheaders\n",
      "    self._send_output(message_body, encode_chunked=encode_chunked)\n",
      "  File \"d:\\anaconda3\\Lib\\http\\client.py\", line 1048, in _send_output\n",
      "    self.send(msg)\n",
      "  File \"d:\\anaconda3\\Lib\\http\\client.py\", line 986, in send\n",
      "    self.connect()\n",
      "  File \"d:\\anaconda3\\Lib\\site-packages\\urllib3\\connection.py\", line 243, in connect\n",
      "    self.sock = self._new_conn()\n",
      "                ^^^^^^^^^^^^^^^^\n",
      "  File \"d:\\anaconda3\\Lib\\site-packages\\urllib3\\connection.py\", line 218, in _new_conn\n",
      "    raise NewConnectionError(\n",
      "urllib3.exceptions.NewConnectionError: <urllib3.connection.HTTPConnection object at 0x000001DF8B925510>: Failed to establish a new connection: [WinError 10061] 無法連線，因為目標電腦拒絕連線。\n",
      "\n",
      "The above exception was the direct cause of the following exception:\n",
      "\n",
      "Traceback (most recent call last):\n",
      "  File \"d:\\anaconda3\\Lib\\site-packages\\requests\\adapters.py\", line 486, in send\n",
      "    resp = conn.urlopen(\n",
      "           ^^^^^^^^^^^^^\n",
      "  File \"d:\\anaconda3\\Lib\\site-packages\\urllib3\\connectionpool.py\", line 845, in urlopen\n",
      "    retries = retries.increment(\n",
      "              ^^^^^^^^^^^^^^^^^^\n",
      "  File \"d:\\anaconda3\\Lib\\site-packages\\urllib3\\util\\retry.py\", line 515, in increment\n",
      "    raise MaxRetryError(_pool, url, reason) from reason  # type: ignore[arg-type]\n",
      "    ^^^^^^^^^^^^^^^^^^^^^^^^^^^^^^^^^^^^^^^^^^^^^^^^^^^\n",
      "urllib3.exceptions.MaxRetryError: HTTPConnectionPool(host='localhost', port=5000): Max retries exceeded with url: /api/login (Caused by NewConnectionError('<urllib3.connection.HTTPConnection object at 0x000001DF8B925510>: Failed to establish a new connection: [WinError 10061] 無法連線，因為目標電腦拒絕連線。'))\n",
      "\n",
      "During handling of the above exception, another exception occurred:\n",
      "\n",
      "Traceback (most recent call last):\n",
      "  File \"C:\\Users\\melod\\AppData\\Local\\Temp\\ipykernel_20768\\1543880256.py\", line 12, in setUpClass\n",
      "    response = requests.post(cls.base_url + 'login', data=login_data)\n",
      "               ^^^^^^^^^^^^^^^^^^^^^^^^^^^^^^^^^^^^^^^^^^^^^^^^^^^^^^\n",
      "  File \"d:\\anaconda3\\Lib\\site-packages\\requests\\api.py\", line 115, in post\n",
      "    return request(\"post\", url, data=data, json=json, **kwargs)\n",
      "           ^^^^^^^^^^^^^^^^^^^^^^^^^^^^^^^^^^^^^^^^^^^^^^^^^^^^\n",
      "  File \"d:\\anaconda3\\Lib\\site-packages\\requests\\api.py\", line 59, in request\n",
      "    return session.request(method=method, url=url, **kwargs)\n",
      "           ^^^^^^^^^^^^^^^^^^^^^^^^^^^^^^^^^^^^^^^^^^^^^^^^^\n",
      "  File \"d:\\anaconda3\\Lib\\site-packages\\requests\\sessions.py\", line 589, in request\n",
      "    resp = self.send(prep, **send_kwargs)\n",
      "           ^^^^^^^^^^^^^^^^^^^^^^^^^^^^^^\n",
      "  File \"d:\\anaconda3\\Lib\\site-packages\\requests\\sessions.py\", line 703, in send\n",
      "    r = adapter.send(request, **kwargs)\n",
      "        ^^^^^^^^^^^^^^^^^^^^^^^^^^^^^^^\n",
      "  File \"d:\\anaconda3\\Lib\\site-packages\\requests\\adapters.py\", line 519, in send\n",
      "    raise ConnectionError(e, request=request)\n",
      "requests.exceptions.ConnectionError: HTTPConnectionPool(host='localhost', port=5000): Max retries exceeded with url: /api/login (Caused by NewConnectionError('<urllib3.connection.HTTPConnection object at 0x000001DF8B925510>: Failed to establish a new connection: [WinError 10061] 無法連線，因為目標電腦拒絕連線。'))\n",
      "\n",
      "----------------------------------------------------------------------\n",
      "Ran 0 tests in 4.109s\n",
      "\n",
      "FAILED (errors=1)\n"
     ]
    },
    {
     "data": {
      "text/plain": [
       "<unittest.main.TestProgram at 0x1df8a7358d0>"
      ]
     },
     "execution_count": 82,
     "metadata": {},
     "output_type": "execute_result"
    }
   ],
   "source": [
    "unittest.main(argv=[''], exit=False)"
   ]
  },
  {
   "cell_type": "markdown",
   "metadata": {},
   "source": [
    "## Test complete order"
   ]
  },
  {
   "cell_type": "code",
   "execution_count": 83,
   "metadata": {},
   "outputs": [],
   "source": [
    "class TestUserFunctionality(unittest.TestCase):\n",
    "    base_url = \"http://localhost:5000/api/\"\n",
    "    session = None\n",
    "\n",
    "    @classmethod\n",
    "    def setUpClass(cls):\n",
    "        print('---------- test login ----------')\n",
    "        login_data = {\n",
    "            'userID': '111',\n",
    "            'userPassword': '222'\n",
    "        }\n",
    "        response = requests.post(cls.base_url + 'login', data=login_data)\n",
    "        if response.status_code == 200:\n",
    "            cls.session = requests.Session()\n",
    "            cls.session.cookies.update(response.cookies)\n",
    "            print('login success')\n",
    "        else:\n",
    "            raise Exception(\"Unable to login\")\n",
    "\n",
    "    @classmethod\n",
    "    def tearDownClass(cls):\n",
    "        # 退出登录，关闭会话\n",
    "        response = cls.session.get(cls.base_url + 'logout')\n",
    "        if response.status_code != 200:\n",
    "            print(\"Logout unsuccessful\")\n",
    "\n",
    "    def test_get_order_id(self):\n",
    "        print('---------- test get order id ----------')\n",
    "        \n",
    "        response = self.session.get(self.base_url + 'orders/2')\n",
    "        print(response.status_code)\n",
    "        print(response.json())\n",
    "        self.assertEqual(response.status_code, 200)\n",
    "\n",
    "\n",
    "    def test_complete_order(self):\n",
    "        print('---------- test complete order ----------')\n",
    "        \n",
    "        response = self.session.post(self.base_url + 'complete_order/2')\n",
    "        print(response.status_code)\n",
    "        # print(response.json())\n",
    "        self.assertEqual(response.status_code, 200)\n"
   ]
  },
  {
   "cell_type": "code",
   "execution_count": 84,
   "metadata": {},
   "outputs": [
    {
     "name": "stderr",
     "output_type": "stream",
     "text": [
      "."
     ]
    },
    {
     "name": "stdout",
     "output_type": "stream",
     "text": [
      "---------- test login ----------\n",
      "login success\n",
      "---------- test complete order ----------\n",
      "200\n"
     ]
    },
    {
     "name": "stderr",
     "output_type": "stream",
     "text": [
      ".\n",
      "----------------------------------------------------------------------\n",
      "Ran 2 tests in 0.215s\n",
      "\n",
      "OK\n"
     ]
    },
    {
     "name": "stdout",
     "output_type": "stream",
     "text": [
      "---------- test get order id ----------\n",
      "200\n",
      "{'approvedAt': 'Sat, 04 May 2024 20:47:46 GMT', 'approvedBy': '111', 'completedAt': 'Sat, 04 May 2024 20:54:10 GMT', 'completedBy': '111', 'createdAt': 'Sat, 04 May 2024 20:45:50 GMT', 'createdBy': 'aaa', 'factory': 'Fab A', 'filePath': None, 'lab': 'chemical', 'priority': 'urgent', 'serialNo': 2, 'status': 'Completed'}\n"
     ]
    },
    {
     "data": {
      "text/plain": [
       "<unittest.main.TestProgram at 0x1df8b902250>"
      ]
     },
     "execution_count": 84,
     "metadata": {},
     "output_type": "execute_result"
    }
   ],
   "source": [
    "unittest.main(argv=[''], exit=False)"
   ]
  },
  {
   "cell_type": "markdown",
   "metadata": {},
   "source": [
    "## Test download file"
   ]
  },
  {
   "cell_type": "code",
   "execution_count": 123,
   "metadata": {},
   "outputs": [],
   "source": [
    "import unittest\n",
    "import requests\n",
    "\n",
    "class TestUserFunctionality(unittest.TestCase):\n",
    "    base_url = \"http://localhost:5000/api/\"\n",
    "    session = None\n",
    "\n",
    "    @classmethod\n",
    "    def setUpClass(cls):\n",
    "        print('---------- test login ----------')\n",
    "        login_data = {\n",
    "            'userID': '111',\n",
    "            'userPassword': '222'\n",
    "        }\n",
    "        response = requests.post(cls.base_url + 'login', data=login_data)\n",
    "        if response.status_code == 200:\n",
    "            cls.session = requests.Session()\n",
    "            cls.session.cookies.update(response.cookies)\n",
    "            print('login success')\n",
    "        else:\n",
    "            raise Exception(\"Unable to login\")\n",
    "\n",
    "    @classmethod\n",
    "    def tearDownClass(cls):\n",
    "        # 退出登录，关闭会话\n",
    "        response = cls.session.get(cls.base_url + 'logout')\n",
    "        if response.status_code != 200:\n",
    "            print(\"Logout unsuccessful\")\n",
    "\n",
    "    def test_download_file(self):\n",
    "        print('---------- test download file ----------')\n",
    "        data = {'filePath': 'uploads/SUR-240505-009/1.jpg'}\n",
    "        \n",
    "        response = self.session.post(self.base_url + 'download', json=data)\n",
    "        print(response.status_code)\n",
    "        # print(response.json())\n",
    "        with open('downloaded_file.jpg', 'wb') as f:\n",
    "            f.write(response.content)\n",
    "        self.assertEqual(response.status_code, 200)\n",
    "\n"
   ]
  },
  {
   "cell_type": "code",
   "execution_count": 124,
   "metadata": {},
   "outputs": [
    {
     "name": "stderr",
     "output_type": "stream",
     "text": [
      ".\n",
      "----------------------------------------------------------------------\n",
      "Ran 1 test in 0.040s\n",
      "\n",
      "OK\n"
     ]
    },
    {
     "name": "stdout",
     "output_type": "stream",
     "text": [
      "---------- test login ----------\n",
      "login success\n",
      "---------- test download file ----------\n",
      "200\n"
     ]
    },
    {
     "data": {
      "text/plain": [
       "<unittest.main.TestProgram at 0x1df8b9a0210>"
      ]
     },
     "execution_count": 124,
     "metadata": {},
     "output_type": "execute_result"
    }
   ],
   "source": [
    "unittest.main(argv=[''], exit=False)"
   ]
  },
  {
   "cell_type": "markdown",
   "metadata": {},
   "source": [
    "## Test get statistics"
   ]
  },
  {
   "cell_type": "code",
   "execution_count": 1,
   "metadata": {},
   "outputs": [],
   "source": [
    "import unittest\n",
    "import requests\n",
    "\n",
    "class TestUserFunctionality(unittest.TestCase):\n",
    "    base_url = \"http://localhost:5000/api/\"\n",
    "    session = None\n",
    "\n",
    "    @classmethod\n",
    "    def setUpClass(cls):\n",
    "        print('---------- test login ----------')\n",
    "        login_data = {\n",
    "            'userID': '111',\n",
    "            'userPassword': '222'\n",
    "        }\n",
    "        response = requests.post(cls.base_url + 'login', data=login_data)\n",
    "        if response.status_code == 200:\n",
    "            cls.session = requests.Session()\n",
    "            cls.session.cookies.update(response.cookies)\n",
    "            print('login success')\n",
    "        else:\n",
    "            raise Exception(\"Unable to login\")\n",
    "\n",
    "    @classmethod\n",
    "    def tearDownClass(cls):\n",
    "        # 退出登录，关闭会话\n",
    "        response = cls.session.get(cls.base_url + 'logout')\n",
    "        if response.status_code != 200:\n",
    "            print(\"Logout unsuccessful\")\n",
    "\n",
    "    def test_count_order(self):\n",
    "        print('---------- test count_order ----------')\n",
    "        \n",
    "        response = self.session.get(self.base_url + 'count_order')\n",
    "        print(response.status_code)\n",
    "        print(response.json())\n",
    "\n",
    "        self.assertEqual(response.status_code, 200)\n",
    "\n",
    "    def test_used_space(self):\n",
    "        print('---------- test used_space ----------')\n",
    "        \n",
    "        response = self.session.get(self.base_url + 'used_space')\n",
    "        print(response.status_code)\n",
    "        print(response.json())\n",
    "\n",
    "        self.assertEqual(response.status_code, 200)\n",
    "\n"
   ]
  },
  {
   "cell_type": "code",
   "execution_count": 7,
   "metadata": {},
   "outputs": [
    {
     "name": "stderr",
     "output_type": "stream",
     "text": [
      "..\n",
      "----------------------------------------------------------------------\n",
      "Ran 2 tests in 0.082s\n",
      "\n",
      "OK\n"
     ]
    },
    {
     "name": "stdout",
     "output_type": "stream",
     "text": [
      "---------- test login ----------\n",
      "login success\n",
      "---------- test count_order ----------\n",
      "200\n",
      "{'Issued': 8}\n",
      "---------- test used_space ----------\n",
      "200\n",
      "{'used': '8'}\n"
     ]
    },
    {
     "data": {
      "text/plain": [
       "<unittest.main.TestProgram at 0x15496691690>"
      ]
     },
     "execution_count": 7,
     "metadata": {},
     "output_type": "execute_result"
    }
   ],
   "source": [
    "unittest.main(argv=[''], exit=False)"
   ]
  }
 ],
 "metadata": {
  "kernelspec": {
   "display_name": "base",
   "language": "python",
   "name": "python3"
  },
  "language_info": {
   "codemirror_mode": {
    "name": "ipython",
    "version": 3
   },
   "file_extension": ".py",
   "mimetype": "text/x-python",
   "name": "python",
   "nbconvert_exporter": "python",
   "pygments_lexer": "ipython3",
   "version": "3.11.7"
  }
 },
 "nbformat": 4,
 "nbformat_minor": 2
}
